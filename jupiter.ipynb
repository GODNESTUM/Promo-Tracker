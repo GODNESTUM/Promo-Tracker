{
 "metadata": {
  "language_info": {
   "codemirror_mode": {
    "name": "ipython",
    "version": 3
   },
   "file_extension": ".py",
   "mimetype": "text/x-python",
   "name": "python",
   "nbconvert_exporter": "python",
   "pygments_lexer": "ipython3",
   "version": "3.9.6"
  },
  "orig_nbformat": 4,
  "kernelspec": {
   "name": "python3",
   "display_name": "Python 3.9.6 64-bit"
  },
  "interpreter": {
   "hash": "57bed4114c882ed5bc3c263ce14c6b830018a5d863f26471118d212d3cd37534"
  }
 },
 "nbformat": 4,
 "nbformat_minor": 2,
 "cells": [
  {
   "cell_type": "code",
   "execution_count": 1,
   "source": [
    "import pandas as pd\r\n",
    "\r\n",
    "\r\n",
    "def load_metadata():\r\n",
    "    DATA_URL = \"C:\\\\Users\\\\o.georgievskiy\\\\Koch Media GmbH\\\\Internship - Oleg Georgievskiy - General\\\\Promo Tracker\\\\Promo_Old_c.csv\"     \r\n",
    "    df = pd.read_csv(DATA_URL, delimiter = \";\", index_col=\"Promo_ID\")   #check for delimiter in csv or other file format adjust accordingly\r\n",
    "    return df\r\n",
    "    #return df.set_index(\"Promo ID\")\r\n",
    "data_df = load_metadata()\r\n",
    "\r\n",
    "user = \"Oleg\"\r\n",
    "\r\n",
    "what = list(data_df.Partner_Name.unique())\r\n",
    "print (type(what))\r\n",
    "print(what)\r\n",
    "#list(what)\r\n",
    "\r\n"
   ],
   "outputs": [
    {
     "output_type": "stream",
     "name": "stdout",
     "text": [
      "<class 'list'>\n",
      "['Steam', 'XBOX', 'Microsoft', 'Sony']\n"
     ]
    }
   ],
   "metadata": {}
  },
  {
   "cell_type": "code",
   "execution_count": 18,
   "source": [
    "user = \"Oleg\"\r\n",
    "password = \"1\"\r\n",
    "partner = \"Steam\"\r\n",
    "registration = False\r\n",
    "\r\n",
    "\r\n",
    "\r\n",
    "def login(data_df, user, password, partner, checkbox_new):\r\n",
    "    if (user, password, partner) not in data_df.Added_by.unique():\r\n",
    "        return (user, password, partner), checkbox_new\r\n",
    "    else:\r\n",
    "        return (user, password, partner), True\r\n",
    "x = login(data_df,user,password,partner, registration)\r\n",
    "print(type(x))\r\n",
    "print(x)\r\n",
    "print(x[0])\r\n",
    "print(type(x[0]))\r\n",
    "print(x[0][0])\r\n"
   ],
   "outputs": [
    {
     "output_type": "stream",
     "name": "stdout",
     "text": [
      "<class 'tuple'>\n",
      "(('Oleg', '1', 'Steam'), True)\n",
      "('Oleg', '1', 'Steam')\n",
      "<class 'tuple'>\n",
      "Oleg\n"
     ]
    }
   ],
   "metadata": {}
  },
  {
   "cell_type": "code",
   "execution_count": 6,
   "source": [
    "import glob\r\n",
    "import pandas as pd\r\n",
    "\r\n",
    "PATH = \"C:\\\\Users\\\\o.georgievskiy\\\\Koch Media GmbH\\\\Internship - Oleg Georgievskiy - General\\\\Promo Tracker\\\\DWH_Dimensions\"\r\n",
    "filenames = glob.glob(PATH+\"/*.csv\")\r\n",
    "dfs = []\r\n",
    "for filename in filenames:\r\n",
    "    df = pd.read_csv(filename, delimiter = \";\", index_col = None)\r\n",
    "    dfs.append(df)\r\n",
    "    print(filename)\r\n",
    "print (dfs[1])\r\n",
    " \r\n"
   ],
   "outputs": [
    {
     "output_type": "stream",
     "name": "stdout",
     "text": [
      "C:\\Users\\o.georgievskiy\\Koch Media GmbH\\Internship - Oleg Georgievskiy - General\\Promo Tracker\\DWH_Dimensions\\dim_partner.csv\n",
      "C:\\Users\\o.georgievskiy\\Koch Media GmbH\\Internship - Oleg Georgievskiy - General\\Promo Tracker\\DWH_Dimensions\\dim_product.csv\n",
      "C:\\Users\\o.georgievskiy\\Koch Media GmbH\\Internship - Oleg Georgievskiy - General\\Promo Tracker\\DWH_Dimensions\\dim_product_BASE_SRP.csv\n",
      "C:\\Users\\o.georgievskiy\\Koch Media GmbH\\Internship - Oleg Georgievskiy - General\\Promo Tracker\\DWH_Dimensions\\dim_promotions.csv\n",
      "C:\\Users\\o.georgievskiy\\Koch Media GmbH\\Internship - Oleg Georgievskiy - General\\Promo Tracker\\DWH_Dimensions\\fact_promotions.csv\n",
      "      dwh_id_dlproduct                            product_id  \\\n",
      "0                   14                                308256   \n",
      "1                  241                                 11266   \n",
      "2                  288                                 12113   \n",
      "3                  300                                123985   \n",
      "4                  309                                 13205   \n",
      "...                ...                                   ...   \n",
      "4858            830167                                461507   \n",
      "4859           2423650                                483929   \n",
      "4860           3421695  EP4356-CUSA05245_00-ASIA000000000000   \n",
      "4861           3421696  EP4356-CUSA05245_00-DUCATIFULLGAME00   \n",
      "4862           3422115  UP1981-CUSA05312_00-DUCATIFULLGAME00   \n",
      "\n",
      "      dwh_id_dlpartner  dwh_id_product  \\\n",
      "0                    1              -2   \n",
      "1                    1              -2   \n",
      "2                    1              -2   \n",
      "3                    1              -2   \n",
      "4                    1              -2   \n",
      "...                ...             ...   \n",
      "4858                 1              -2   \n",
      "4859                 1              -2   \n",
      "4860                 7              -2   \n",
      "4861                 7              -2   \n",
      "4862                 7              -2   \n",
      "\n",
      "                                           product_name      title_id  \\\n",
      "0                                   BAFTA 2018 (retail)           NaN   \n",
      "1                             Dead Island Comp (retail)           NaN   \n",
      "2                       Saints Row: Linux Test (retail)           NaN   \n",
      "3                                  The New THQ Classics           NaN   \n",
      "4     Saints Row: The Third - Genki Bowl VII Retail ...           NaN   \n",
      "...                                                 ...           ...   \n",
      "4858          DUCATI - 90th Anniversary RU/CIS (retail)           NaN   \n",
      "4859              DUCATI - 90th Anniversary CN (retail)           NaN   \n",
      "4860                          DUCATI - 90th Anniversary  CUSA05245_00   \n",
      "4861                          DUCATI - 90th Anniversary  CUSA05245_00   \n",
      "4862                          DUCATI - 90th Anniversary  CUSA05312_00   \n",
      "\n",
      "                                title_name content_type platform  \\\n",
      "0                      BAFTA 2018 (retail)          NaN       PC   \n",
      "1                              Dead Island         Game       PC   \n",
      "2          Saints Row: Linux Test (retail)          NaN       PC   \n",
      "3                     The New THQ Classics          NaN       PC   \n",
      "4     Saints Row The Third - Genkibowl VII          DLC       PC   \n",
      "...                                    ...          ...      ...   \n",
      "4858             DUCATI - 90th Anniversary          NaN       PC   \n",
      "4859             DUCATI - 90th Anniversary          NaN       PC   \n",
      "4860             DUCATI - 90th Anniversary         Game      PS4   \n",
      "4861             DUCATI - 90th Anniversary         Game      PS4   \n",
      "4862             DUCATI - 90th Anniversary         Game      PS4   \n",
      "\n",
      "     product_release_date  publisher  ips_project_code  \\\n",
      "0              01.01.1970   Warhorse                -2   \n",
      "1              19.08.2011    Unknown                -2   \n",
      "2              07.12.2015    Unknown                -2   \n",
      "3              01.05.2020    Unknown                -2   \n",
      "4              17.01.2012    Unknown                -2   \n",
      "...                   ...        ...               ...   \n",
      "4858           01.01.1970  Milestone           4013240   \n",
      "4859           01.01.1970  Milestone           4013240   \n",
      "4860           30.06.2016  Milestone           4013240   \n",
      "4861           09.06.2016  Milestone           4013240   \n",
      "4862           09.06.2016  Milestone           4013240   \n",
      "\n",
      "              ips_project_title ips_project_label  \n",
      "0                           NaN           Unknown  \n",
      "1                           NaN           Unknown  \n",
      "2                           NaN           Unknown  \n",
      "3                           NaN           Unknown  \n",
      "4                           NaN           Unknown  \n",
      "...                         ...               ...  \n",
      "4858  DUCATI - 90th Anniversary         Milestone  \n",
      "4859  DUCATI - 90th Anniversary         Milestone  \n",
      "4860  DUCATI - 90th Anniversary         Milestone  \n",
      "4861  DUCATI - 90th Anniversary         Milestone  \n",
      "4862  DUCATI - 90th Anniversary         Milestone  \n",
      "\n",
      "[4863 rows x 14 columns]\n"
     ]
    }
   ],
   "metadata": {}
  },
  {
   "cell_type": "code",
   "execution_count": 9,
   "source": [
    "import glob\r\n",
    "import pandas as pd\r\n",
    "\r\n",
    "PATH = \"C:\\\\Users\\\\o.georgievskiy\\\\Koch Media GmbH\\\\Internship - Oleg Georgievskiy - General\\\\Promo Tracker\\\\DWH_Dimensions\"\r\n",
    "filenames = glob.glob(PATH+\"/*.csv\")\r\n",
    "dfs = {}\r\n",
    "for filename in filenames:\r\n",
    "    df = pd.read_csv(filename, delimiter = \";\", index_col = None)\r\n",
    "    dfs[filename] = df\r\n",
    "    #print(filename)\r\n",
    "print (dfs.keys())"
   ],
   "outputs": [
    {
     "output_type": "stream",
     "name": "stdout",
     "text": [
      "dict_keys(['C:\\\\Users\\\\o.georgievskiy\\\\Koch Media GmbH\\\\Internship - Oleg Georgievskiy - General\\\\Promo Tracker\\\\DWH_Dimensions\\\\dim_partner.csv', 'C:\\\\Users\\\\o.georgievskiy\\\\Koch Media GmbH\\\\Internship - Oleg Georgievskiy - General\\\\Promo Tracker\\\\DWH_Dimensions\\\\dim_product.csv', 'C:\\\\Users\\\\o.georgievskiy\\\\Koch Media GmbH\\\\Internship - Oleg Georgievskiy - General\\\\Promo Tracker\\\\DWH_Dimensions\\\\dim_product_BASE_SRP.csv', 'C:\\\\Users\\\\o.georgievskiy\\\\Koch Media GmbH\\\\Internship - Oleg Georgievskiy - General\\\\Promo Tracker\\\\DWH_Dimensions\\\\dim_promotions.csv', 'C:\\\\Users\\\\o.georgievskiy\\\\Koch Media GmbH\\\\Internship - Oleg Georgievskiy - General\\\\Promo Tracker\\\\DWH_Dimensions\\\\fact_promotions.csv'])\n"
     ]
    }
   ],
   "metadata": {}
  }
 ]
}